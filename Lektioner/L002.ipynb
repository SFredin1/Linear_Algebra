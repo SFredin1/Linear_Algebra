{
 "cells": [
  {
   "cell_type": "code",
   "execution_count": 6,
   "metadata": {},
   "outputs": [
    {
     "name": "stdout",
     "output_type": "stream",
     "text": [
      "[4. 3. 1.]\n"
     ]
    }
   ],
   "source": [
    "import numpy as np\n",
    "import scipy.linalg\n",
    "\n",
    "A = np.array([[1, -2,  3],\n",
    "              [2, -4,  7],\n",
    "              [-3, 5, -1]])\n",
    "\n",
    "b = np.array([1, 3, 2])\n",
    "\n",
    "x = scipy.linalg.solve(A, b)\n",
    "\n",
    "print(x)"
   ]
  },
  {
   "cell_type": "code",
   "execution_count": 8,
   "metadata": {},
   "outputs": [
    {
     "name": "stdout",
     "output_type": "stream",
     "text": [
      "[8.22740092 9.73638118 1.06575627]\n"
     ]
    }
   ],
   "source": [
    "A= np.array([[25, 25,20], \n",
    "             [10, 50,10], \n",
    "             [55, 0,35], \n",
    "             [125,100,45]]) \n",
    "\n",
    "b=np.array([470,580,490,2050]) \n",
    "\n",
    "x,*_ =scipy.linalg.lstsq(A,b) \n",
    "print(x)"
   ]
  }
 ],
 "metadata": {
  "kernelspec": {
   "display_name": "Python 3",
   "language": "python",
   "name": "python3"
  },
  "language_info": {
   "codemirror_mode": {
    "name": "ipython",
    "version": 3
   },
   "file_extension": ".py",
   "mimetype": "text/x-python",
   "name": "python",
   "nbconvert_exporter": "python",
   "pygments_lexer": "ipython3",
   "version": "3.11.5"
  }
 },
 "nbformat": 4,
 "nbformat_minor": 2
}
