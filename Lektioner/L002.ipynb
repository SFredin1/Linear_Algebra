{
 "cells": [
  {
   "cell_type": "code",
   "execution_count": 6,
   "metadata": {},
   "outputs": [
    {
     "name": "stdout",
     "output_type": "stream",
     "text": [
      "[4. 3. 1.]\n"
     ]
    }
   ],
   "source": [
    "import numpy as np\n",
    "import scipy.linalg\n",
    "\n",
    "A = np.array([[1, -2,  3],\n",
    "              [2, -4,  7],\n",
    "              [-3, 5, -1]])\n",
    "\n",
    "b = np.array([1, 3, 2])\n",
    "\n",
    "x = scipy.linalg.solve(A, b)\n",
    "\n",
    "print(x)"
   ]
  },
  {
   "cell_type": "code",
   "execution_count": 10,
   "metadata": {},
   "outputs": [
    {
     "name": "stdout",
     "output_type": "stream",
     "text": [
      "[8.22740092 9.73638118 1.06575627]\n"
     ]
    }
   ],
   "source": [
    "A= np.array([\n",
    "    [25, 25,20], \n",
    "    [10, 50,10], \n",
    "    [55, 0,35], \n",
    "    [125,100,45]]) \n",
    "\n",
    "b=np.array([470,580,490,2050]) \n",
    "\n",
    "x,*_ =scipy.linalg.lstsq(A,b) \n",
    "\n",
    "print(x)"
   ]
  },
  {
   "cell_type": "code",
   "execution_count": null,
   "metadata": {},
   "outputs": [],
   "source": [
    "# import openai\n",
    "# import os\n",
    "\n",
    "# def supersolver(question):\n",
    "#     openai.api_key = os.environ.get('API_Key')\n",
    "\n",
    "#     response = openai.Completion.create(\n",
    "#         engine=\"gpt-4-1106-preview\",\n",
    "#         prompt=question,\n",
    "#     )\n",
    "\n",
    "#     return response.choices[0].text.strip()"
   ]
  },
  {
   "cell_type": "code",
   "execution_count": null,
   "metadata": {},
   "outputs": [],
   "source": [
    "import orthoprojection"
   ]
  }
 ],
 "metadata": {
  "kernelspec": {
   "display_name": "Python 3",
   "language": "python",
   "name": "python3"
  },
  "language_info": {
   "codemirror_mode": {
    "name": "ipython",
    "version": 3
   },
   "file_extension": ".py",
   "mimetype": "text/x-python",
   "name": "python",
   "nbconvert_exporter": "python",
   "pygments_lexer": "ipython3",
   "version": "3.11.5"
  }
 },
 "nbformat": 4,
 "nbformat_minor": 2
}
